{
 "cells": [
  {
   "cell_type": "markdown",
   "id": "communist-commercial",
   "metadata": {},
   "source": [
    "## Lecture 01 - 20210210\n",
    "\n",
    "### Sampling example\n",
    "\n",
    "Start by creating 2 arrays with the cases names and ages"
   ]
  },
  {
   "cell_type": "code",
   "execution_count": 1,
   "id": "arctic-innocent",
   "metadata": {},
   "outputs": [
    {
     "data": {
      "text/html": [
       "10"
      ],
      "text/latex": [
       "10"
      ],
      "text/markdown": [
       "10"
      ],
      "text/plain": [
       "[1] 10"
      ]
     },
     "metadata": {},
     "output_type": "display_data"
    }
   ],
   "source": [
    "Names = c(\"Bob\", \"Mary\", \"William\", \"George\", \"Lucas\", \"Mathew\", \"Angel\", \"Steven\", \"Ariana\", \"Chen\")\n",
    "length(Names)"
   ]
  },
  {
   "cell_type": "code",
   "execution_count": 2,
   "id": "existing-electronics",
   "metadata": {},
   "outputs": [
    {
     "data": {
      "text/html": [
       "10"
      ],
      "text/latex": [
       "10"
      ],
      "text/markdown": [
       "10"
      ],
      "text/plain": [
       "[1] 10"
      ]
     },
     "metadata": {},
     "output_type": "display_data"
    }
   ],
   "source": [
    "Ages = c(22, 23, 21, 25, 28, 25, 23, 23, 32, 28)\n",
    "length(Ages)"
   ]
  },
  {
   "cell_type": "markdown",
   "id": "second-messenger",
   "metadata": {},
   "source": [
    "Now let's create a data frame"
   ]
  },
  {
   "cell_type": "code",
   "execution_count": 6,
   "id": "united-underwear",
   "metadata": {},
   "outputs": [
    {
     "data": {
      "text/html": [
       "<table>\n",
       "<thead><tr><th scope=col>Names</th><th scope=col>Ages</th></tr></thead>\n",
       "<tbody>\n",
       "\t<tr><td>Bob    </td><td>22     </td></tr>\n",
       "\t<tr><td>Mary   </td><td>23     </td></tr>\n",
       "\t<tr><td>William</td><td>21     </td></tr>\n",
       "\t<tr><td>George </td><td>25     </td></tr>\n",
       "\t<tr><td>Lucas  </td><td>28     </td></tr>\n",
       "\t<tr><td>Mathew </td><td>25     </td></tr>\n",
       "\t<tr><td>Angel  </td><td>23     </td></tr>\n",
       "\t<tr><td>Steven </td><td>23     </td></tr>\n",
       "\t<tr><td>Ariana </td><td>32     </td></tr>\n",
       "\t<tr><td>Chen   </td><td>28     </td></tr>\n",
       "</tbody>\n",
       "</table>\n"
      ],
      "text/latex": [
       "\\begin{tabular}{r|ll}\n",
       " Names & Ages\\\\\n",
       "\\hline\n",
       "\t Bob     & 22     \\\\\n",
       "\t Mary    & 23     \\\\\n",
       "\t William & 21     \\\\\n",
       "\t George  & 25     \\\\\n",
       "\t Lucas   & 28     \\\\\n",
       "\t Mathew  & 25     \\\\\n",
       "\t Angel   & 23     \\\\\n",
       "\t Steven  & 23     \\\\\n",
       "\t Ariana  & 32     \\\\\n",
       "\t Chen    & 28     \\\\\n",
       "\\end{tabular}\n"
      ],
      "text/markdown": [
       "\n",
       "| Names | Ages |\n",
       "|---|---|\n",
       "| Bob     | 22      |\n",
       "| Mary    | 23      |\n",
       "| William | 21      |\n",
       "| George  | 25      |\n",
       "| Lucas   | 28      |\n",
       "| Mathew  | 25      |\n",
       "| Angel   | 23      |\n",
       "| Steven  | 23      |\n",
       "| Ariana  | 32      |\n",
       "| Chen    | 28      |\n",
       "\n"
      ],
      "text/plain": [
       "   Names   Ages\n",
       "1  Bob     22  \n",
       "2  Mary    23  \n",
       "3  William 21  \n",
       "4  George  25  \n",
       "5  Lucas   28  \n",
       "6  Mathew  25  \n",
       "7  Angel   23  \n",
       "8  Steven  23  \n",
       "9  Ariana  32  \n",
       "10 Chen    28  "
      ]
     },
     "metadata": {},
     "output_type": "display_data"
    }
   ],
   "source": [
    "Pop = data.frame(Names = Names, Ages = Ages)\n",
    "Pop"
   ]
  },
  {
   "cell_type": "markdown",
   "id": "chemical-domain",
   "metadata": {},
   "source": [
    "Creating a sample with 4 cases non replaceable"
   ]
  },
  {
   "cell_type": "code",
   "execution_count": 7,
   "id": "controlling-things",
   "metadata": {},
   "outputs": [
    {
     "data": {
      "text/html": [
       "<ol class=list-inline>\n",
       "\t<li>2</li>\n",
       "\t<li>7</li>\n",
       "\t<li>6</li>\n",
       "\t<li>5</li>\n",
       "</ol>\n"
      ],
      "text/latex": [
       "\\begin{enumerate*}\n",
       "\\item 2\n",
       "\\item 7\n",
       "\\item 6\n",
       "\\item 5\n",
       "\\end{enumerate*}\n"
      ],
      "text/markdown": [
       "1. 2\n",
       "2. 7\n",
       "3. 6\n",
       "4. 5\n",
       "\n",
       "\n"
      ],
      "text/plain": [
       "[1] 2 7 6 5"
      ]
     },
     "metadata": {},
     "output_type": "display_data"
    }
   ],
   "source": [
    "S = sample(1:10,size = 4, replace = FALSE )\n",
    "head(S)"
   ]
  },
  {
   "cell_type": "markdown",
   "id": "threatened-maximum",
   "metadata": {},
   "source": [
    "creating the sample data frame"
   ]
  },
  {
   "cell_type": "code",
   "execution_count": 8,
   "id": "national-orange",
   "metadata": {},
   "outputs": [
    {
     "data": {
      "text/html": [
       "<table>\n",
       "<thead><tr><th></th><th scope=col>Names</th><th scope=col>Ages</th></tr></thead>\n",
       "<tbody>\n",
       "\t<tr><th scope=row>2</th><td>Mary  </td><td>23    </td></tr>\n",
       "\t<tr><th scope=row>7</th><td>Angel </td><td>23    </td></tr>\n",
       "\t<tr><th scope=row>6</th><td>Mathew</td><td>25    </td></tr>\n",
       "\t<tr><th scope=row>5</th><td>Lucas </td><td>28    </td></tr>\n",
       "</tbody>\n",
       "</table>\n"
      ],
      "text/latex": [
       "\\begin{tabular}{r|ll}\n",
       "  & Names & Ages\\\\\n",
       "\\hline\n",
       "\t2 & Mary   & 23    \\\\\n",
       "\t7 & Angel  & 23    \\\\\n",
       "\t6 & Mathew & 25    \\\\\n",
       "\t5 & Lucas  & 28    \\\\\n",
       "\\end{tabular}\n"
      ],
      "text/markdown": [
       "\n",
       "| <!--/--> | Names | Ages |\n",
       "|---|---|---|\n",
       "| 2 | Mary   | 23     |\n",
       "| 7 | Angel  | 23     |\n",
       "| 6 | Mathew | 25     |\n",
       "| 5 | Lucas  | 28     |\n",
       "\n"
      ],
      "text/plain": [
       "  Names  Ages\n",
       "2 Mary   23  \n",
       "7 Angel  23  \n",
       "6 Mathew 25  \n",
       "5 Lucas  28  "
      ]
     },
     "metadata": {},
     "output_type": "display_data"
    }
   ],
   "source": [
    "S.data = Pop[S,]\n",
    "S.data"
   ]
  },
  {
   "cell_type": "code",
   "execution_count": null,
   "id": "british-playing",
   "metadata": {},
   "outputs": [],
   "source": [
    "  "
   ]
  }
 ],
 "metadata": {
  "kernelspec": {
   "display_name": "R",
   "language": "R",
   "name": "ir"
  },
  "language_info": {
   "codemirror_mode": "r",
   "file_extension": ".r",
   "mimetype": "text/x-r-source",
   "name": "R",
   "pygments_lexer": "r",
   "version": "3.6.1"
  }
 },
 "nbformat": 4,
 "nbformat_minor": 5
}
