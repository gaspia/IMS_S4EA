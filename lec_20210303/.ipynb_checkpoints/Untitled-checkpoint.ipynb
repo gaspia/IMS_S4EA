{
 "cells": [
  {
   "cell_type": "markdown",
   "metadata": {},
   "source": [
    "## Lec 04 - 20210303\n",
    "\n",
    "### Variable correlation computing in R\n",
    "\n",
    "In this example we have data from a random sample of n = 9 undergraduate Forecasting Methods students from the Spring 2017 semester.\n",
    "- I have pulled data concerning their homework scores average and their scores on the first midterm test\n",
    "- Homework scores have a maximum possible value of 20.\n",
    "- Midterm exam scores have a maximum possible value of 20.\n",
    "- Remember, the x and y variables do not need to be on the same metric to compute a correlation."
   ]
  },
  {
   "cell_type": "code",
   "execution_count": 1,
   "metadata": {},
   "outputs": [],
   "source": [
    "# Loading the data\n",
    "HW=c(16,20,19,19,16,15,20,20,19)\n",
    "MT=c(15,19,13,14,18,14,20,20,18)"
   ]
  },
  {
   "cell_type": "code",
   "execution_count": 2,
   "metadata": {},
   "outputs": [],
   "source": [
    "# Plotting"
   ]
  },
  {
   "cell_type": "code",
   "execution_count": 3,
   "metadata": {},
   "outputs": [
    {
     "data": {
      "image/png": "[encoded data removed]",
      "text/plain": [
       "Plot with title \"Scaterplot of Homework and Midterm grades\""
      ]
     },
     "metadata": {},
     "output_type": "display_data"
    }
   ],
   "source": [
    "plot(HW,MT, \n",
    "     xlab=\"Homework average\", \n",
    "     ylab=\"First midterm test\", \n",
    "     main=\"Scaterplot of Homework and Midterm grades\",\n",
    "     sub=\"Forecasting Methods, Spring 2017\")"
   ]
  },
  {
   "cell_type": "markdown",
   "metadata": {},
   "source": [
    "- From this scatterplot we can determine that the relationship may be weak, but that it is reasonable to consider a linear relationship.\n",
    "- If we were to draw a line of best fit through this scatterplot we would draw a straight line with a slight upward slope."
   ]
  },
  {
   "cell_type": "code",
   "execution_count": 4,
   "metadata": {},
   "outputs": [
    {
     "ename": "ERROR",
     "evalue": "Error in int_abline(a = a, b = b, h = h, v = v, untf = untf, ...): plot.new has not been called yet\n",
     "output_type": "error",
     "traceback": [
      "Error in int_abline(a = a, b = b, h = h, v = v, untf = untf, ...): plot.new has not been called yet\nTraceback:\n",
      "1. abline(lm(MT ~ HW))",
      "2. int_abline(a = a, b = b, h = h, v = v, untf = untf, ...)"
     ]
    }
   ],
   "source": [
    "plot(HW,MT, \n",
    "     xlab=\"Homework average\", \n",
    "     ylab=\"First midterm test\", \n",
    "     main=\"Scaterplot of Homework and Midterm grades\",\n",
    "     sub=\"Forecasting Methods, Spring 2017\")\n",
    "abline(lm(MT~HW))"
   ]
  },
  {
   "cell_type": "code",
   "execution_count": null,
   "metadata": {},
   "outputs": [],
   "source": []
  }
 ],
 "metadata": {
  "kernelspec": {
   "display_name": "R",
   "language": "R",
   "name": "ir"
  },
  "language_info": {
   "codemirror_mode": "r",
   "file_extension": ".r",
   "mimetype": "text/x-r-source",
   "name": "R",
   "pygments_lexer": "r",
   "version": "3.6.1"
  }
 },
 "nbformat": 4,
 "nbformat_minor": 4
}
