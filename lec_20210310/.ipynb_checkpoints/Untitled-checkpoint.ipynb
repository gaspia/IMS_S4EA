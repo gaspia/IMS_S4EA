{
 "cells": [
  {
   "cell_type": "markdown",
   "metadata": {},
   "source": [
    "## Exercise 1 - Diet and Retinol and Beta-Carotene Levels\n",
    "The data from a study (Nierenberg, D., et. al., Determinants of plasma levels of beta-carotene and retinol, American Journal of Epidemiology, 1989 Sep; 130(3): 511–21. ) examining the association between diet and plasma retinol and plasma beta-carotene levels are given in NutritionStudy. The dataset has 315 cases (people who have the measurements taken) and 16 columns. Dataset description is in the Appendix.\n",
    "\n",
    "1. Indicate which of the variables are quantitative and which are categorical.\n",
    "2. Discuss one possible relationship of interest in this dataset between two categorical variables. Between two quantitative variables. Between one categorical and one quantitative variable.\n",
    "3. hich visual tool would you use to evaluate the association mentioned above?"
   ]
  },
  {
   "cell_type": "markdown",
   "metadata": {},
   "source": [
    "2.a. Smoke vs prior somke - If you smoke , you cannot have prior smoke status  \n",
    "2.b. Cholesterol vs Beta Plasma)\n",
    "2.c. Gender and Smoke?"
   ]
  },
  {
   "cell_type": "markdown",
   "metadata": {},
   "source": [
    "3. Scatterplot"
   ]
  },
  {
   "cell_type": "markdown",
   "metadata": {},
   "source": [
    "## Exercise 7 - Beta-Carotene Levels in the Blood\n",
    "The plasma beta-carotene level (concentration of betacarotene in the blood), in ng/ml, was measured for a sample of n=315 individuals, and the results (http://lib.stat.cmu.edu/datasets/Plasma_Retinol, accessed on February 5th, 2021.) are shown in the following histogram."
   ]
  },
  {
   "cell_type": "code",
   "execution_count": 1,
   "metadata": {},
   "outputs": [
    {
     "ename": "ERROR",
     "evalue": "Error in library(readxl): there is no package called 'readxl'\n",
     "output_type": "error",
     "traceback": [
      "Error in library(readxl): there is no package called 'readxl'\nTraceback:\n",
      "1. library(readxl)"
     ]
    }
   ],
   "source": [
    "library(readxl)\n",
    "plasma <- as.data.frame(read_excel(\"PlasmaRetinol.xlsl\", sheet=1))"
   ]
  },
  {
   "cell_type": "code",
   "execution_count": null,
   "metadata": {},
   "outputs": [],
   "source": []
  }
 ],
 "metadata": {
  "kernelspec": {
   "display_name": "R",
   "language": "R",
   "name": "ir"
  },
  "language_info": {
   "codemirror_mode": "r",
   "file_extension": ".r",
   "mimetype": "text/x-r-source",
   "name": "R",
   "pygments_lexer": "r",
   "version": "3.6.1"
  }
 },
 "nbformat": 4,
 "nbformat_minor": 4
}
