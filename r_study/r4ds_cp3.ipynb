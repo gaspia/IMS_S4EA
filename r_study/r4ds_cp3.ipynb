{
 "cells": [
  {
   "cell_type": "markdown",
   "id": "cloudy-taste",
   "metadata": {},
   "source": [
    "# Getting Data In and Out of R\n",
    "There are a few principal functions reading data into R.\n",
    "\n",
    "- read.table, read.csv, for reading tabular data\n",
    "- readLines, for reading lines of a text file\n",
    "- source, for reading in R code files (inverse of dump)\n",
    "- dget, for reading in R code files (inverse of dput)\n",
    "- load, for reading in saved workspaces\n",
    "- unserialize, for reading single R objects in binary form \n",
    "\n",
    "There are analogous functions for writing data to files\n",
    "\n",
    "- write.table, for writing tabular data to text files (i.e. CSV) or connections\n",
    "- writeLines, for writing character data line-by-line to a file or connection\n",
    "- dump, for dumping a textual representation of multiple R objects\n",
    "- dput, for outputting a textual representation of an R object\n",
    "- save, for saving an arbitrary number of R objects in binary format (possibly compressed) to\n",
    "a file. • serialize, for converting an R object into a binary format for outputting to a connection (or\n",
    "file).\n"
   ]
  },
  {
   "cell_type": "markdown",
   "id": "double-impact",
   "metadata": {},
   "source": [
    "## Reading Data Files with read.table()"
   ]
  },
  {
   "cell_type": "code",
   "execution_count": 2,
   "id": "latter-bloom",
   "metadata": {},
   "outputs": [],
   "source": [
    "# see the help for the read.table() function\n",
    "?read.table"
   ]
  },
  {
   "cell_type": "markdown",
   "id": "continent-policy",
   "metadata": {},
   "source": [
    "#### Usage\n",
    "read.table(file, header = FALSE, sep = \"\", quote = \"\\\"'\",\n",
    "           dec = \".\", numerals = c(\"allow.loss\", \"warn.loss\", \"no.loss\"),\n",
    "           row.names, col.names, as.is = !stringsAsFactors,\n",
    "           na.strings = \"NA\", colClasses = NA, nrows = -1,\n",
    "           skip = 0, check.names = TRUE, fill = !blank.lines.skip,\n",
    "           strip.white = FALSE, blank.lines.skip = TRUE,\n",
    "           comment.char = \"#\",\n",
    "           allowEscapes = FALSE, flush = FALSE,\n",
    "           stringsAsFactors = default.stringsAsFactors(),\n",
    "           fileEncoding = \"\", encoding = \"unknown\", text, skipNul = FALSE)\n",
    "\n",
    "stringsAsFactors :\n",
    "- should character variables be coded as factors?\n",
    "- defaults to TRUE (those strings represented levels of a categorical variable)\n",
    "- Now lots of data is text & data and not represent categorical variables. \n",
    "- You may want to set this to be FALSE in those cases. \n",
    "- If you always want this to be FALSE, you can set a global option via options(stringsAsFactors = FALSE)\n"
   ]
  },
  {
   "cell_type": "markdown",
   "id": "underlying-reasoning",
   "metadata": {},
   "source": [
    "You can usually call read.table without specifying any other arguments.\n",
    "\n",
    "In this case, R will automatically\n",
    "- skip lines that begin with a #\n",
    "- figure out how many rows there are (and how much memory needs to be allocated)\n",
    "- figure what type of variable is in each column of the table.\n",
    "\n",
    "Telling R all these things directly makes R run faster and more efficiently. "
   ]
  },
  {
   "cell_type": "code",
   "execution_count": 6,
   "id": "surrounded-browse",
   "metadata": {},
   "outputs": [
    {
     "data": {
      "text/html": [
       "<table>\n",
       "<thead><tr><th scope=col>V1</th><th scope=col>V2</th><th scope=col>V3</th><th scope=col>V4</th><th scope=col>V5</th></tr></thead>\n",
       "<tbody>\n",
       "\t<tr><td>NA        </td><td>First     </td><td>Last      </td><td>Gender    </td><td>Birthdate </td></tr>\n",
       "\t<tr><td> 0        </td><td>Forest    </td><td>Kutch     </td><td>M         </td><td>1950-10-06</td></tr>\n",
       "\t<tr><td> 1        </td><td>Mignon    </td><td>Bahringer </td><td>F         </td><td>1971-12-07</td></tr>\n",
       "\t<tr><td> 2        </td><td>Loyd      </td><td>Koelpin   </td><td>F         </td><td>1989-09-16</td></tr>\n",
       "\t<tr><td> 3        </td><td>Newt      </td><td>Hahn      </td><td>M         </td><td>1940-04-29</td></tr>\n",
       "\t<tr><td> 4        </td><td>Ama       </td><td>Waelchi   </td><td>M         </td><td>1958-03-30</td></tr>\n",
       "</tbody>\n",
       "</table>\n"
      ],
      "text/latex": [
       "\\begin{tabular}{r|lllll}\n",
       " V1 & V2 & V3 & V4 & V5\\\\\n",
       "\\hline\n",
       "\t NA         & First      & Last       & Gender     & Birthdate \\\\\n",
       "\t  0         & Forest     & Kutch      & M          & 1950-10-06\\\\\n",
       "\t  1         & Mignon     & Bahringer  & F          & 1971-12-07\\\\\n",
       "\t  2         & Loyd       & Koelpin    & F          & 1989-09-16\\\\\n",
       "\t  3         & Newt       & Hahn       & M          & 1940-04-29\\\\\n",
       "\t  4         & Ama        & Waelchi    & M          & 1958-03-30\\\\\n",
       "\\end{tabular}\n"
      ],
      "text/markdown": [
       "\n",
       "| V1 | V2 | V3 | V4 | V5 |\n",
       "|---|---|---|---|---|\n",
       "| NA         | First      | Last       | Gender     | Birthdate  |\n",
       "|  0         | Forest     | Kutch      | M          | 1950-10-06 |\n",
       "|  1         | Mignon     | Bahringer  | F          | 1971-12-07 |\n",
       "|  2         | Loyd       | Koelpin    | F          | 1989-09-16 |\n",
       "|  3         | Newt       | Hahn       | M          | 1940-04-29 |\n",
       "|  4         | Ama        | Waelchi    | M          | 1958-03-30 |\n",
       "\n"
      ],
      "text/plain": [
       "  V1 V2     V3        V4     V5        \n",
       "1 NA First  Last      Gender Birthdate \n",
       "2  0 Forest Kutch     M      1950-10-06\n",
       "3  1 Mignon Bahringer F      1971-12-07\n",
       "4  2 Loyd   Koelpin   F      1989-09-16\n",
       "5  3 Newt   Hahn      M      1940-04-29\n",
       "6  4 Ama    Waelchi   M      1958-03-30"
      ]
     },
     "metadata": {},
     "output_type": "display_data"
    }
   ],
   "source": [
    "data <- read.table(\"fake-file.csv\", sep=\",\")\n",
    "head(data)"
   ]
  },
  {
   "cell_type": "code",
   "execution_count": 15,
   "id": "valuable-melissa",
   "metadata": {},
   "outputs": [
    {
     "data": {
      "text/html": [
       "<dl>\n",
       "\t<dt>$names</dt>\n",
       "\t\t<dd><ol class=list-inline>\n",
       "\t<li>'V1'</li>\n",
       "\t<li>'V2'</li>\n",
       "\t<li>'V3'</li>\n",
       "\t<li>'V4'</li>\n",
       "\t<li>'V5'</li>\n",
       "</ol>\n",
       "</dd>\n",
       "\t<dt>$class</dt>\n",
       "\t\t<dd>'data.frame'</dd>\n",
       "\t<dt>$row.names</dt>\n",
       "\t\t<dd><ol class=list-inline>\n",
       "\t<li>1</li>\n",
       "\t<li>2</li>\n",
       "\t<li>3</li>\n",
       "\t<li>4</li>\n",
       "\t<li>5</li>\n",
       "\t<li>6</li>\n",
       "\t<li>7</li>\n",
       "\t<li>8</li>\n",
       "\t<li>9</li>\n",
       "\t<li>10</li>\n",
       "\t<li>11</li>\n",
       "</ol>\n",
       "</dd>\n",
       "</dl>\n"
      ],
      "text/latex": [
       "\\begin{description}\n",
       "\\item[\\$names] \\begin{enumerate*}\n",
       "\\item 'V1'\n",
       "\\item 'V2'\n",
       "\\item 'V3'\n",
       "\\item 'V4'\n",
       "\\item 'V5'\n",
       "\\end{enumerate*}\n",
       "\n",
       "\\item[\\$class] 'data.frame'\n",
       "\\item[\\$row.names] \\begin{enumerate*}\n",
       "\\item 1\n",
       "\\item 2\n",
       "\\item 3\n",
       "\\item 4\n",
       "\\item 5\n",
       "\\item 6\n",
       "\\item 7\n",
       "\\item 8\n",
       "\\item 9\n",
       "\\item 10\n",
       "\\item 11\n",
       "\\end{enumerate*}\n",
       "\n",
       "\\end{description}\n"
      ],
      "text/markdown": [
       "$names\n",
       ":   1. 'V1'\n",
       "2. 'V2'\n",
       "3. 'V3'\n",
       "4. 'V4'\n",
       "5. 'V5'\n",
       "\n",
       "\n",
       "\n",
       "$class\n",
       ":   'data.frame'\n",
       "$row.names\n",
       ":   1. 1\n",
       "2. 2\n",
       "3. 3\n",
       "4. 4\n",
       "5. 5\n",
       "6. 6\n",
       "7. 7\n",
       "8. 8\n",
       "9. 9\n",
       "10. 10\n",
       "11. 11\n",
       "\n",
       "\n",
       "\n",
       "\n",
       "\n"
      ],
      "text/plain": [
       "$names\n",
       "[1] \"V1\" \"V2\" \"V3\" \"V4\" \"V5\"\n",
       "\n",
       "$class\n",
       "[1] \"data.frame\"\n",
       "\n",
       "$row.names\n",
       " [1]  1  2  3  4  5  6  7  8  9 10 11\n"
      ]
     },
     "metadata": {},
     "output_type": "display_data"
    }
   ],
   "source": [
    "attributes(data)"
   ]
  },
  {
   "cell_type": "markdown",
   "id": "comprehensive-duration",
   "metadata": {},
   "source": [
    "The read.csv() function is identical to read.table except that some of the defaults are set differently (like the sep argument)."
   ]
  },
  {
   "cell_type": "code",
   "execution_count": 17,
   "id": "visible-pacific",
   "metadata": {},
   "outputs": [
    {
     "data": {
      "text/html": [
       "<table>\n",
       "<thead><tr><th scope=col>X</th><th scope=col>First</th><th scope=col>Last</th><th scope=col>Gender</th><th scope=col>Birthdate</th></tr></thead>\n",
       "<tbody>\n",
       "\t<tr><td>0         </td><td>Forest    </td><td>Kutch     </td><td>M         </td><td>1950-10-06</td></tr>\n",
       "\t<tr><td>1         </td><td>Mignon    </td><td>Bahringer </td><td>F         </td><td>1971-12-07</td></tr>\n",
       "\t<tr><td>2         </td><td>Loyd      </td><td>Koelpin   </td><td>F         </td><td>1989-09-16</td></tr>\n",
       "\t<tr><td>3         </td><td>Newt      </td><td>Hahn      </td><td>M         </td><td>1940-04-29</td></tr>\n",
       "\t<tr><td>4         </td><td>Ama       </td><td>Waelchi   </td><td>M         </td><td>1958-03-30</td></tr>\n",
       "\t<tr><td>5         </td><td>Calla     </td><td>Spinka    </td><td>M         </td><td>1988-10-25</td></tr>\n",
       "</tbody>\n",
       "</table>\n"
      ],
      "text/latex": [
       "\\begin{tabular}{r|lllll}\n",
       " X & First & Last & Gender & Birthdate\\\\\n",
       "\\hline\n",
       "\t 0          & Forest     & Kutch      & M          & 1950-10-06\\\\\n",
       "\t 1          & Mignon     & Bahringer  & F          & 1971-12-07\\\\\n",
       "\t 2          & Loyd       & Koelpin    & F          & 1989-09-16\\\\\n",
       "\t 3          & Newt       & Hahn       & M          & 1940-04-29\\\\\n",
       "\t 4          & Ama        & Waelchi    & M          & 1958-03-30\\\\\n",
       "\t 5          & Calla      & Spinka     & M          & 1988-10-25\\\\\n",
       "\\end{tabular}\n"
      ],
      "text/markdown": [
       "\n",
       "| X | First | Last | Gender | Birthdate |\n",
       "|---|---|---|---|---|\n",
       "| 0          | Forest     | Kutch      | M          | 1950-10-06 |\n",
       "| 1          | Mignon     | Bahringer  | F          | 1971-12-07 |\n",
       "| 2          | Loyd       | Koelpin    | F          | 1989-09-16 |\n",
       "| 3          | Newt       | Hahn       | M          | 1940-04-29 |\n",
       "| 4          | Ama        | Waelchi    | M          | 1958-03-30 |\n",
       "| 5          | Calla      | Spinka     | M          | 1988-10-25 |\n",
       "\n"
      ],
      "text/plain": [
       "  X First  Last      Gender Birthdate \n",
       "1 0 Forest Kutch     M      1950-10-06\n",
       "2 1 Mignon Bahringer F      1971-12-07\n",
       "3 2 Loyd   Koelpin   F      1989-09-16\n",
       "4 3 Newt   Hahn      M      1940-04-29\n",
       "5 4 Ama    Waelchi   M      1958-03-30\n",
       "6 5 Calla  Spinka    M      1988-10-25"
      ]
     },
     "metadata": {},
     "output_type": "display_data"
    }
   ],
   "source": [
    "data <- read.csv(\"fake-file.csv\")\n",
    "head(data)"
   ]
  },
  {
   "cell_type": "markdown",
   "id": "turned-delicious",
   "metadata": {},
   "source": [
    "####  Reading in Larger Datasets with read.table \n",
    "there are a few things that you can do that will make your life easier and will prevent R from choking.\n",
    "- Read the help page for read.table, which contains many hints\n",
    "- Make a rough calculation of the memory required.\n",
    "- If the dataset is larger than the amount of RAM on your computer, you can probably stop right here.\n",
    "- Set comment.char = \"\" if there are no commented lines in your file.\n",
    "- Use the colClasses argument. Specifying this option instead of using the default can make\n",
    "’read.table’ run MUCH faster, often twice as fast.\n"
   ]
  },
  {
   "cell_type": "code",
   "execution_count": 18,
   "id": "sensitive-victory",
   "metadata": {},
   "outputs": [],
   "source": [
    "?read.table()"
   ]
  },
  {
   "cell_type": "markdown",
   "id": "apparent-messaging",
   "metadata": {},
   "source": [
    "#### Usage\n",
    "read.table(file, header = FALSE, sep = \"\", quote = \"\\\"'\",  \n",
    "&nbsp;&nbsp;&nbsp;&nbsp;&nbsp;&nbsp;dec = \".\", numerals = c(\"allow.loss\", \"warn.loss\", \"no.loss\"),  \n",
    "&nbsp;&nbsp;&nbsp;&nbsp;&nbsp;&nbsp;row.names, col.names, as.is = !stringsAsFactors,  \n",
    "&nbsp;&nbsp;&nbsp;&nbsp;&nbsp;&nbsp;na.strings = \"NA\", colClasses = NA, nrows = -1,  \n",
    "&nbsp;&nbsp;&nbsp;&nbsp;&nbsp;&nbsp;skip = 0, check.names = TRUE, fill = !blank.lines.skip,  \n",
    "&nbsp;&nbsp;&nbsp;&nbsp;&nbsp;&nbsp;strip.white = FALSE, blank.lines.skip = TRUE,  \n",
    "&nbsp;&nbsp;&nbsp;&nbsp;&nbsp;&nbsp;comment.char = \"#\",  \n",
    "&nbsp;&nbsp;&nbsp;&nbsp;&nbsp;&nbsp;allowEscapes = FALSE, flush = FALSE,  \n",
    "&nbsp;&nbsp;&nbsp;&nbsp;&nbsp;&nbsp;stringsAsFactors = default.stringsAsFactors(),  \n",
    "&nbsp;&nbsp;&nbsp;&nbsp;&nbsp;&nbsp;fileEncoding = \"\", encoding = \"unknown\", text, skipNul = FALSE)\n",
    "\n"
   ]
  },
  {
   "cell_type": "code",
   "execution_count": 13,
   "id": "endless-support",
   "metadata": {},
   "outputs": [
    {
     "data": {
      "text/html": [
       "<dl>\n",
       "\t<dt>$names</dt>\n",
       "\t\t<dd><ol class=list-inline>\n",
       "\t<li>'V1'</li>\n",
       "\t<li>'V2'</li>\n",
       "\t<li>'V3'</li>\n",
       "\t<li>'V4'</li>\n",
       "\t<li>'V5'</li>\n",
       "</ol>\n",
       "</dd>\n",
       "\t<dt>$class</dt>\n",
       "\t\t<dd>'data.frame'</dd>\n",
       "\t<dt>$row.names</dt>\n",
       "\t\t<dd><ol class=list-inline>\n",
       "\t<li>1</li>\n",
       "\t<li>2</li>\n",
       "\t<li>3</li>\n",
       "\t<li>4</li>\n",
       "\t<li>5</li>\n",
       "\t<li>6</li>\n",
       "\t<li>7</li>\n",
       "\t<li>8</li>\n",
       "\t<li>9</li>\n",
       "\t<li>10</li>\n",
       "\t<li>11</li>\n",
       "\t<li>12</li>\n",
       "\t<li>13</li>\n",
       "\t<li>14</li>\n",
       "\t<li>15</li>\n",
       "\t<li>16</li>\n",
       "\t<li>17</li>\n",
       "\t<li>18</li>\n",
       "\t<li>19</li>\n",
       "\t<li>20</li>\n",
       "\t<li>21</li>\n",
       "\t<li>22</li>\n",
       "\t<li>23</li>\n",
       "\t<li>24</li>\n",
       "\t<li>25</li>\n",
       "\t<li>26</li>\n",
       "\t<li>27</li>\n",
       "\t<li>28</li>\n",
       "\t<li>29</li>\n",
       "\t<li>30</li>\n",
       "\t<li>31</li>\n",
       "\t<li>32</li>\n",
       "\t<li>33</li>\n",
       "\t<li>34</li>\n",
       "\t<li>35</li>\n",
       "\t<li>36</li>\n",
       "\t<li>37</li>\n",
       "\t<li>38</li>\n",
       "\t<li>39</li>\n",
       "\t<li>40</li>\n",
       "\t<li>41</li>\n",
       "\t<li>42</li>\n",
       "\t<li>43</li>\n",
       "\t<li>44</li>\n",
       "\t<li>45</li>\n",
       "\t<li>46</li>\n",
       "\t<li>47</li>\n",
       "\t<li>48</li>\n",
       "\t<li>49</li>\n",
       "\t<li>50</li>\n",
       "\t<li>51</li>\n",
       "\t<li>52</li>\n",
       "\t<li>53</li>\n",
       "\t<li>54</li>\n",
       "\t<li>55</li>\n",
       "\t<li>56</li>\n",
       "\t<li>57</li>\n",
       "\t<li>58</li>\n",
       "\t<li>59</li>\n",
       "\t<li>60</li>\n",
       "\t<li>61</li>\n",
       "\t<li>62</li>\n",
       "\t<li>63</li>\n",
       "\t<li>64</li>\n",
       "\t<li>65</li>\n",
       "\t<li>66</li>\n",
       "\t<li>67</li>\n",
       "\t<li>68</li>\n",
       "\t<li>69</li>\n",
       "\t<li>70</li>\n",
       "\t<li>71</li>\n",
       "\t<li>72</li>\n",
       "\t<li>73</li>\n",
       "\t<li>74</li>\n",
       "\t<li>75</li>\n",
       "\t<li>76</li>\n",
       "\t<li>77</li>\n",
       "\t<li>78</li>\n",
       "\t<li>79</li>\n",
       "\t<li>80</li>\n",
       "\t<li>81</li>\n",
       "\t<li>82</li>\n",
       "\t<li>83</li>\n",
       "\t<li>84</li>\n",
       "\t<li>85</li>\n",
       "\t<li>86</li>\n",
       "\t<li>87</li>\n",
       "\t<li>88</li>\n",
       "\t<li>89</li>\n",
       "\t<li>90</li>\n",
       "\t<li>91</li>\n",
       "\t<li>92</li>\n",
       "\t<li>93</li>\n",
       "\t<li>94</li>\n",
       "\t<li>95</li>\n",
       "\t<li>96</li>\n",
       "\t<li>97</li>\n",
       "\t<li>98</li>\n",
       "\t<li>99</li>\n",
       "\t<li>100</li>\n",
       "</ol>\n",
       "</dd>\n",
       "</dl>\n"
      ],
      "text/latex": [
       "\\begin{description}\n",
       "\\item[\\$names] \\begin{enumerate*}\n",
       "\\item 'V1'\n",
       "\\item 'V2'\n",
       "\\item 'V3'\n",
       "\\item 'V4'\n",
       "\\item 'V5'\n",
       "\\end{enumerate*}\n",
       "\n",
       "\\item[\\$class] 'data.frame'\n",
       "\\item[\\$row.names] \\begin{enumerate*}\n",
       "\\item 1\n",
       "\\item 2\n",
       "\\item 3\n",
       "\\item 4\n",
       "\\item 5\n",
       "\\item 6\n",
       "\\item 7\n",
       "\\item 8\n",
       "\\item 9\n",
       "\\item 10\n",
       "\\item 11\n",
       "\\item 12\n",
       "\\item 13\n",
       "\\item 14\n",
       "\\item 15\n",
       "\\item 16\n",
       "\\item 17\n",
       "\\item 18\n",
       "\\item 19\n",
       "\\item 20\n",
       "\\item 21\n",
       "\\item 22\n",
       "\\item 23\n",
       "\\item 24\n",
       "\\item 25\n",
       "\\item 26\n",
       "\\item 27\n",
       "\\item 28\n",
       "\\item 29\n",
       "\\item 30\n",
       "\\item 31\n",
       "\\item 32\n",
       "\\item 33\n",
       "\\item 34\n",
       "\\item 35\n",
       "\\item 36\n",
       "\\item 37\n",
       "\\item 38\n",
       "\\item 39\n",
       "\\item 40\n",
       "\\item 41\n",
       "\\item 42\n",
       "\\item 43\n",
       "\\item 44\n",
       "\\item 45\n",
       "\\item 46\n",
       "\\item 47\n",
       "\\item 48\n",
       "\\item 49\n",
       "\\item 50\n",
       "\\item 51\n",
       "\\item 52\n",
       "\\item 53\n",
       "\\item 54\n",
       "\\item 55\n",
       "\\item 56\n",
       "\\item 57\n",
       "\\item 58\n",
       "\\item 59\n",
       "\\item 60\n",
       "\\item 61\n",
       "\\item 62\n",
       "\\item 63\n",
       "\\item 64\n",
       "\\item 65\n",
       "\\item 66\n",
       "\\item 67\n",
       "\\item 68\n",
       "\\item 69\n",
       "\\item 70\n",
       "\\item 71\n",
       "\\item 72\n",
       "\\item 73\n",
       "\\item 74\n",
       "\\item 75\n",
       "\\item 76\n",
       "\\item 77\n",
       "\\item 78\n",
       "\\item 79\n",
       "\\item 80\n",
       "\\item 81\n",
       "\\item 82\n",
       "\\item 83\n",
       "\\item 84\n",
       "\\item 85\n",
       "\\item 86\n",
       "\\item 87\n",
       "\\item 88\n",
       "\\item 89\n",
       "\\item 90\n",
       "\\item 91\n",
       "\\item 92\n",
       "\\item 93\n",
       "\\item 94\n",
       "\\item 95\n",
       "\\item 96\n",
       "\\item 97\n",
       "\\item 98\n",
       "\\item 99\n",
       "\\item 100\n",
       "\\end{enumerate*}\n",
       "\n",
       "\\end{description}\n"
      ],
      "text/markdown": [
       "$names\n",
       ":   1. 'V1'\n",
       "2. 'V2'\n",
       "3. 'V3'\n",
       "4. 'V4'\n",
       "5. 'V5'\n",
       "\n",
       "\n",
       "\n",
       "$class\n",
       ":   'data.frame'\n",
       "$row.names\n",
       ":   1. 1\n",
       "2. 2\n",
       "3. 3\n",
       "4. 4\n",
       "5. 5\n",
       "6. 6\n",
       "7. 7\n",
       "8. 8\n",
       "9. 9\n",
       "10. 10\n",
       "11. 11\n",
       "12. 12\n",
       "13. 13\n",
       "14. 14\n",
       "15. 15\n",
       "16. 16\n",
       "17. 17\n",
       "18. 18\n",
       "19. 19\n",
       "20. 20\n",
       "21. 21\n",
       "22. 22\n",
       "23. 23\n",
       "24. 24\n",
       "25. 25\n",
       "26. 26\n",
       "27. 27\n",
       "28. 28\n",
       "29. 29\n",
       "30. 30\n",
       "31. 31\n",
       "32. 32\n",
       "33. 33\n",
       "34. 34\n",
       "35. 35\n",
       "36. 36\n",
       "37. 37\n",
       "38. 38\n",
       "39. 39\n",
       "40. 40\n",
       "41. 41\n",
       "42. 42\n",
       "43. 43\n",
       "44. 44\n",
       "45. 45\n",
       "46. 46\n",
       "47. 47\n",
       "48. 48\n",
       "49. 49\n",
       "50. 50\n",
       "51. 51\n",
       "52. 52\n",
       "53. 53\n",
       "54. 54\n",
       "55. 55\n",
       "56. 56\n",
       "57. 57\n",
       "58. 58\n",
       "59. 59\n",
       "60. 60\n",
       "61. 61\n",
       "62. 62\n",
       "63. 63\n",
       "64. 64\n",
       "65. 65\n",
       "66. 66\n",
       "67. 67\n",
       "68. 68\n",
       "69. 69\n",
       "70. 70\n",
       "71. 71\n",
       "72. 72\n",
       "73. 73\n",
       "74. 74\n",
       "75. 75\n",
       "76. 76\n",
       "77. 77\n",
       "78. 78\n",
       "79. 79\n",
       "80. 80\n",
       "81. 81\n",
       "82. 82\n",
       "83. 83\n",
       "84. 84\n",
       "85. 85\n",
       "86. 86\n",
       "87. 87\n",
       "88. 88\n",
       "89. 89\n",
       "90. 90\n",
       "91. 91\n",
       "92. 92\n",
       "93. 93\n",
       "94. 94\n",
       "95. 95\n",
       "96. 96\n",
       "97. 97\n",
       "98. 98\n",
       "99. 99\n",
       "100. 100\n",
       "\n",
       "\n",
       "\n",
       "\n",
       "\n"
      ],
      "text/plain": [
       "$names\n",
       "[1] \"V1\" \"V2\" \"V3\" \"V4\" \"V5\"\n",
       "\n",
       "$class\n",
       "[1] \"data.frame\"\n",
       "\n",
       "$row.names\n",
       "  [1]   1   2   3   4   5   6   7   8   9  10  11  12  13  14  15  16  17  18\n",
       " [19]  19  20  21  22  23  24  25  26  27  28  29  30  31  32  33  34  35  36\n",
       " [37]  37  38  39  40  41  42  43  44  45  46  47  48  49  50  51  52  53  54\n",
       " [55]  55  56  57  58  59  60  61  62  63  64  65  66  67  68  69  70  71  72\n",
       " [73]  73  74  75  76  77  78  79  80  81  82  83  84  85  86  87  88  89  90\n",
       " [91]  91  92  93  94  95  96  97  98  99 100\n"
      ]
     },
     "metadata": {},
     "output_type": "display_data"
    }
   ],
   "source": [
    "#Set nrows. This doesn’t make R run faster but it helps with memory usage. A mild overestimate is okay.\n",
    "initial <- read.table(\"fake-file-1000.csv\", nrows = 100, sep=\",\", stringsAsFactors = FALSE )\n",
    "attributes(initial)"
   ]
  },
  {
   "cell_type": "code",
   "execution_count": 14,
   "id": "auburn-encoding",
   "metadata": {},
   "outputs": [
    {
     "data": {
      "text/html": [
       "<table>\n",
       "<thead><tr><th scope=col>V1</th><th scope=col>V2</th><th scope=col>V3</th><th scope=col>V4</th><th scope=col>V5</th></tr></thead>\n",
       "<tbody>\n",
       "\t<tr><td>NA        </td><td>First     </td><td>Last      </td><td>Gender    </td><td>Birthdate </td></tr>\n",
       "\t<tr><td> 0        </td><td>Akeelah   </td><td>Medhurst  </td><td>M         </td><td>1956-04-08</td></tr>\n",
       "\t<tr><td> 1        </td><td>Charissa  </td><td>Wisoky    </td><td>F         </td><td>2000-04-06</td></tr>\n",
       "\t<tr><td> 2        </td><td>Charle    </td><td>Swaniawski</td><td>F         </td><td>1967-01-30</td></tr>\n",
       "\t<tr><td> 3        </td><td>Amaya     </td><td>Wilkinson </td><td>M         </td><td>1966-03-11</td></tr>\n",
       "\t<tr><td> 4        </td><td>Benton    </td><td>Murphy    </td><td>F         </td><td>2005-09-17</td></tr>\n",
       "</tbody>\n",
       "</table>\n"
      ],
      "text/latex": [
       "\\begin{tabular}{r|lllll}\n",
       " V1 & V2 & V3 & V4 & V5\\\\\n",
       "\\hline\n",
       "\t NA         & First      & Last       & Gender     & Birthdate \\\\\n",
       "\t  0         & Akeelah    & Medhurst   & M          & 1956-04-08\\\\\n",
       "\t  1         & Charissa   & Wisoky     & F          & 2000-04-06\\\\\n",
       "\t  2         & Charle     & Swaniawski & F          & 1967-01-30\\\\\n",
       "\t  3         & Amaya      & Wilkinson  & M          & 1966-03-11\\\\\n",
       "\t  4         & Benton     & Murphy     & F          & 2005-09-17\\\\\n",
       "\\end{tabular}\n"
      ],
      "text/markdown": [
       "\n",
       "| V1 | V2 | V3 | V4 | V5 |\n",
       "|---|---|---|---|---|\n",
       "| NA         | First      | Last       | Gender     | Birthdate  |\n",
       "|  0         | Akeelah    | Medhurst   | M          | 1956-04-08 |\n",
       "|  1         | Charissa   | Wisoky     | F          | 2000-04-06 |\n",
       "|  2         | Charle     | Swaniawski | F          | 1967-01-30 |\n",
       "|  3         | Amaya      | Wilkinson  | M          | 1966-03-11 |\n",
       "|  4         | Benton     | Murphy     | F          | 2005-09-17 |\n",
       "\n"
      ],
      "text/plain": [
       "  V1 V2       V3         V4     V5        \n",
       "1 NA First    Last       Gender Birthdate \n",
       "2  0 Akeelah  Medhurst   M      1956-04-08\n",
       "3  1 Charissa Wisoky     F      2000-04-06\n",
       "4  2 Charle   Swaniawski F      1967-01-30\n",
       "5  3 Amaya    Wilkinson  M      1966-03-11\n",
       "6  4 Benton   Murphy     F      2005-09-17"
      ]
     },
     "metadata": {},
     "output_type": "display_data"
    }
   ],
   "source": [
    "head(initial)"
   ]
  },
  {
   "cell_type": "code",
   "execution_count": 15,
   "id": "thick-fruit",
   "metadata": {},
   "outputs": [
    {
     "data": {
      "text/html": [
       "<dl class=dl-horizontal>\n",
       "\t<dt>V1</dt>\n",
       "\t\t<dd>'integer'</dd>\n",
       "\t<dt>V2</dt>\n",
       "\t\t<dd>'character'</dd>\n",
       "\t<dt>V3</dt>\n",
       "\t\t<dd>'character'</dd>\n",
       "\t<dt>V4</dt>\n",
       "\t\t<dd>'character'</dd>\n",
       "\t<dt>V5</dt>\n",
       "\t\t<dd>'character'</dd>\n",
       "</dl>\n"
      ],
      "text/latex": [
       "\\begin{description*}\n",
       "\\item[V1] 'integer'\n",
       "\\item[V2] 'character'\n",
       "\\item[V3] 'character'\n",
       "\\item[V4] 'character'\n",
       "\\item[V5] 'character'\n",
       "\\end{description*}\n"
      ],
      "text/markdown": [
       "V1\n",
       ":   'integer'V2\n",
       ":   'character'V3\n",
       ":   'character'V4\n",
       ":   'character'V5\n",
       ":   'character'\n",
       "\n"
      ],
      "text/plain": [
       "         V1          V2          V3          V4          V5 \n",
       "  \"integer\" \"character\" \"character\" \"character\" \"character\" "
      ]
     },
     "metadata": {},
     "output_type": "display_data"
    }
   ],
   "source": [
    "# generate a vector with the element classes\n",
    "classes <- sapply(initial, class)\n",
    "classes"
   ]
  },
  {
   "cell_type": "code",
   "execution_count": 16,
   "id": "metropolitan-neighbor",
   "metadata": {},
   "outputs": [
    {
     "name": "stderr",
     "output_type": "stream",
     "text": [
      "Warning message in scan(file = file, what = what, sep = sep, quote = quote, dec = dec, :\n",
      "“EOF within quoted string”Warning message in scan(file = file, what = what, sep = sep, quote = quote, dec = dec, :\n",
      "“número de itens não é múltiplo do número de colunas”"
     ]
    }
   ],
   "source": [
    "# now a more efficient way to load a dataset\n",
    "tabAll <- read.table(\"fake-file-1000.csv\", colClasses = classes, stringsAsFactors = FALSE, sep=\",\")\n"
   ]
  },
  {
   "cell_type": "code",
   "execution_count": 17,
   "id": "cutting-covering",
   "metadata": {},
   "outputs": [
    {
     "data": {
      "text/html": [
       "<table>\n",
       "<thead><tr><th scope=col>V1</th><th scope=col>V2</th><th scope=col>V3</th><th scope=col>V4</th><th scope=col>V5</th></tr></thead>\n",
       "<tbody>\n",
       "\t<tr><td>NA        </td><td>First     </td><td>Last      </td><td>Gender    </td><td>Birthdate </td></tr>\n",
       "\t<tr><td> 0        </td><td>Akeelah   </td><td>Medhurst  </td><td>M         </td><td>1956-04-08</td></tr>\n",
       "\t<tr><td> 1        </td><td>Charissa  </td><td>Wisoky    </td><td>F         </td><td>2000-04-06</td></tr>\n",
       "\t<tr><td> 2        </td><td>Charle    </td><td>Swaniawski</td><td>F         </td><td>1967-01-30</td></tr>\n",
       "\t<tr><td> 3        </td><td>Amaya     </td><td>Wilkinson </td><td>M         </td><td>1966-03-11</td></tr>\n",
       "\t<tr><td> 4        </td><td>Benton    </td><td>Murphy    </td><td>F         </td><td>2005-09-17</td></tr>\n",
       "</tbody>\n",
       "</table>\n"
      ],
      "text/latex": [
       "\\begin{tabular}{r|lllll}\n",
       " V1 & V2 & V3 & V4 & V5\\\\\n",
       "\\hline\n",
       "\t NA         & First      & Last       & Gender     & Birthdate \\\\\n",
       "\t  0         & Akeelah    & Medhurst   & M          & 1956-04-08\\\\\n",
       "\t  1         & Charissa   & Wisoky     & F          & 2000-04-06\\\\\n",
       "\t  2         & Charle     & Swaniawski & F          & 1967-01-30\\\\\n",
       "\t  3         & Amaya      & Wilkinson  & M          & 1966-03-11\\\\\n",
       "\t  4         & Benton     & Murphy     & F          & 2005-09-17\\\\\n",
       "\\end{tabular}\n"
      ],
      "text/markdown": [
       "\n",
       "| V1 | V2 | V3 | V4 | V5 |\n",
       "|---|---|---|---|---|\n",
       "| NA         | First      | Last       | Gender     | Birthdate  |\n",
       "|  0         | Akeelah    | Medhurst   | M          | 1956-04-08 |\n",
       "|  1         | Charissa   | Wisoky     | F          | 2000-04-06 |\n",
       "|  2         | Charle     | Swaniawski | F          | 1967-01-30 |\n",
       "|  3         | Amaya      | Wilkinson  | M          | 1966-03-11 |\n",
       "|  4         | Benton     | Murphy     | F          | 2005-09-17 |\n",
       "\n"
      ],
      "text/plain": [
       "  V1 V2       V3         V4     V5        \n",
       "1 NA First    Last       Gender Birthdate \n",
       "2  0 Akeelah  Medhurst   M      1956-04-08\n",
       "3  1 Charissa Wisoky     F      2000-04-06\n",
       "4  2 Charle   Swaniawski F      1967-01-30\n",
       "5  3 Amaya    Wilkinson  M      1966-03-11\n",
       "6  4 Benton   Murphy     F      2005-09-17"
      ]
     },
     "metadata": {},
     "output_type": "display_data"
    }
   ],
   "source": [
    "head(tabAll)"
   ]
  },
  {
   "cell_type": "markdown",
   "id": "casual-closure",
   "metadata": {},
   "source": [
    "### Using the readr Package\n",
    "Deals with reading in large flat files quickly\n",
    " - provides replacements for functions like read.table() and read.csv()\n",
    " - analogous functions in readr are read_table() and read_csv()\n"
   ]
  },
  {
   "cell_type": "code",
   "execution_count": 22,
   "id": "angry-fifty",
   "metadata": {},
   "outputs": [
    {
     "name": "stderr",
     "output_type": "stream",
     "text": [
      "Warning message:\n",
      "“Missing column names filled in: 'X1' [1]”Parsed with column specification:\n",
      "cols(\n",
      "  X1 = col_double(),\n",
      "  First = col_character(),\n",
      "  Last = col_character(),\n",
      "  Gender = col_character(),\n",
      "  Birthdate = col_date(format = \"\")\n",
      ")\n"
     ]
    }
   ],
   "source": [
    "# read_csv() example\n",
    "data <- read_csv(\"fake-file-1000.csv\", col_names = TRUE)"
   ]
  },
  {
   "cell_type": "code",
   "execution_count": 23,
   "id": "descending-gates",
   "metadata": {},
   "outputs": [
    {
     "data": {
      "text/html": [
       "<table>\n",
       "<thead><tr><th scope=col>X1</th><th scope=col>First</th><th scope=col>Last</th><th scope=col>Gender</th><th scope=col>Birthdate</th></tr></thead>\n",
       "<tbody>\n",
       "\t<tr><td>0         </td><td>Akeelah   </td><td>Medhurst  </td><td>M         </td><td>1956-04-08</td></tr>\n",
       "\t<tr><td>1         </td><td>Charissa  </td><td>Wisoky    </td><td>F         </td><td>2000-04-06</td></tr>\n",
       "\t<tr><td>2         </td><td>Charle    </td><td>Swaniawski</td><td>F         </td><td>1967-01-30</td></tr>\n",
       "\t<tr><td>3         </td><td>Amaya     </td><td>Wilkinson </td><td>M         </td><td>1966-03-11</td></tr>\n",
       "\t<tr><td>4         </td><td>Benton    </td><td>Murphy    </td><td>F         </td><td>2005-09-17</td></tr>\n",
       "\t<tr><td>5         </td><td>Sheena    </td><td>Walker    </td><td>M         </td><td>1976-01-12</td></tr>\n",
       "</tbody>\n",
       "</table>\n"
      ],
      "text/latex": [
       "\\begin{tabular}{r|lllll}\n",
       " X1 & First & Last & Gender & Birthdate\\\\\n",
       "\\hline\n",
       "\t 0          & Akeelah    & Medhurst   & M          & 1956-04-08\\\\\n",
       "\t 1          & Charissa   & Wisoky     & F          & 2000-04-06\\\\\n",
       "\t 2          & Charle     & Swaniawski & F          & 1967-01-30\\\\\n",
       "\t 3          & Amaya      & Wilkinson  & M          & 1966-03-11\\\\\n",
       "\t 4          & Benton     & Murphy     & F          & 2005-09-17\\\\\n",
       "\t 5          & Sheena     & Walker     & M          & 1976-01-12\\\\\n",
       "\\end{tabular}\n"
      ],
      "text/markdown": [
       "\n",
       "| X1 | First | Last | Gender | Birthdate |\n",
       "|---|---|---|---|---|\n",
       "| 0          | Akeelah    | Medhurst   | M          | 1956-04-08 |\n",
       "| 1          | Charissa   | Wisoky     | F          | 2000-04-06 |\n",
       "| 2          | Charle     | Swaniawski | F          | 1967-01-30 |\n",
       "| 3          | Amaya      | Wilkinson  | M          | 1966-03-11 |\n",
       "| 4          | Benton     | Murphy     | F          | 2005-09-17 |\n",
       "| 5          | Sheena     | Walker     | M          | 1976-01-12 |\n",
       "\n"
      ],
      "text/plain": [
       "  X1 First    Last       Gender Birthdate \n",
       "1 0  Akeelah  Medhurst   M      1956-04-08\n",
       "2 1  Charissa Wisoky     F      2000-04-06\n",
       "3 2  Charle   Swaniawski F      1967-01-30\n",
       "4 3  Amaya    Wilkinson  M      1966-03-11\n",
       "5 4  Benton   Murphy     F      2005-09-17\n",
       "6 5  Sheena   Walker     M      1976-01-12"
      ]
     },
     "metadata": {},
     "output_type": "display_data"
    }
   ],
   "source": [
    "head(data)"
   ]
  },
  {
   "cell_type": "markdown",
   "id": "qualified-permission",
   "metadata": {},
   "source": [
    "### Using Textual and Binary Formats for Storing Data\n"
   ]
  },
  {
   "cell_type": "code",
   "execution_count": null,
   "id": "japanese-success",
   "metadata": {},
   "outputs": [],
   "source": []
  }
 ],
 "metadata": {
  "kernelspec": {
   "display_name": "R",
   "language": "R",
   "name": "ir"
  },
  "language_info": {
   "codemirror_mode": "r",
   "file_extension": ".r",
   "mimetype": "text/x-r-source",
   "name": "R",
   "pygments_lexer": "r",
   "version": "3.6.1"
  }
 },
 "nbformat": 4,
 "nbformat_minor": 5
}
